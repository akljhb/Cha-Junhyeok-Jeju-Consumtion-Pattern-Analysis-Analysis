{
 "cells": [
  {
   "cell_type": "code",
   "execution_count": 2,
   "metadata": {},
   "outputs": [],
   "source": [
    "import pandas as pd\n",
    "import numpy as np\n",
    "\n",
    "import matplotlib.pyplot as plt\n",
    "import seaborn as sns"
   ]
  },
  {
   "cell_type": "code",
   "execution_count": 3,
   "metadata": {},
   "outputs": [
    {
     "data": {
      "text/html": [
       "<div>\n",
       "<style scoped>\n",
       "    .dataframe tbody tr th:only-of-type {\n",
       "        vertical-align: middle;\n",
       "    }\n",
       "\n",
       "    .dataframe tbody tr th {\n",
       "        vertical-align: top;\n",
       "    }\n",
       "\n",
       "    .dataframe thead th {\n",
       "        text-align: right;\n",
       "    }\n",
       "</style>\n",
       "<table border=\"1\" class=\"dataframe\">\n",
       "  <thead>\n",
       "    <tr style=\"text-align: right;\">\n",
       "      <th></th>\n",
       "      <th>기준년월</th>\n",
       "      <th>관광객 유형</th>\n",
       "      <th>제주 대분류</th>\n",
       "      <th>제주 중분류</th>\n",
       "      <th>업종명</th>\n",
       "      <th>성별</th>\n",
       "      <th>연령대별</th>\n",
       "      <th>카드이용금액</th>\n",
       "      <th>카드이용건수</th>\n",
       "      <th>건당이용금액</th>\n",
       "      <th>데이터기준일자</th>\n",
       "    </tr>\n",
       "  </thead>\n",
       "  <tbody>\n",
       "    <tr>\n",
       "      <th>0</th>\n",
       "      <td>2014-09-01</td>\n",
       "      <td>내국인 관광객</td>\n",
       "      <td>서귀포시</td>\n",
       "      <td>대륜동</td>\n",
       "      <td>농축수산품</td>\n",
       "      <td>여</td>\n",
       "      <td>50대</td>\n",
       "      <td>14434000</td>\n",
       "      <td>67</td>\n",
       "      <td>215433</td>\n",
       "      <td>2017-02-16</td>\n",
       "    </tr>\n",
       "    <tr>\n",
       "      <th>1</th>\n",
       "      <td>2014-09-01</td>\n",
       "      <td>내국인 관광객</td>\n",
       "      <td>서귀포시</td>\n",
       "      <td>대륜동</td>\n",
       "      <td>농축수산품</td>\n",
       "      <td>남</td>\n",
       "      <td>50대</td>\n",
       "      <td>15119000</td>\n",
       "      <td>72</td>\n",
       "      <td>209986</td>\n",
       "      <td>2017-02-16</td>\n",
       "    </tr>\n",
       "    <tr>\n",
       "      <th>2</th>\n",
       "      <td>2014-09-01</td>\n",
       "      <td>내국인 관광객</td>\n",
       "      <td>서귀포시</td>\n",
       "      <td>대륜동</td>\n",
       "      <td>농축수산품</td>\n",
       "      <td>여</td>\n",
       "      <td>40대</td>\n",
       "      <td>7609500</td>\n",
       "      <td>41</td>\n",
       "      <td>185598</td>\n",
       "      <td>2017-02-16</td>\n",
       "    </tr>\n",
       "    <tr>\n",
       "      <th>3</th>\n",
       "      <td>2014-09-01</td>\n",
       "      <td>내국인 관광객</td>\n",
       "      <td>서귀포시</td>\n",
       "      <td>남원읍</td>\n",
       "      <td>농축수산품</td>\n",
       "      <td>남</td>\n",
       "      <td>50대</td>\n",
       "      <td>7092500</td>\n",
       "      <td>40</td>\n",
       "      <td>177313</td>\n",
       "      <td>2017-02-16</td>\n",
       "    </tr>\n",
       "    <tr>\n",
       "      <th>4</th>\n",
       "      <td>2014-09-01</td>\n",
       "      <td>내국인 관광객</td>\n",
       "      <td>서귀포시</td>\n",
       "      <td>대륜동</td>\n",
       "      <td>농축수산품</td>\n",
       "      <td>남</td>\n",
       "      <td>40대</td>\n",
       "      <td>9098500</td>\n",
       "      <td>59</td>\n",
       "      <td>154212</td>\n",
       "      <td>2017-02-16</td>\n",
       "    </tr>\n",
       "  </tbody>\n",
       "</table>\n",
       "</div>"
      ],
      "text/plain": [
       "        기준년월   관광객 유형 제주 대분류 제주 중분류    업종명 성별 연령대별   카드이용금액    카드이용건수   \\\n",
       "0 2014-09-01  내국인 관광객   서귀포시    대륜동  농축수산품  여  50대  14434000        67   \n",
       "1 2014-09-01  내국인 관광객   서귀포시    대륜동  농축수산품  남  50대  15119000        72   \n",
       "2 2014-09-01  내국인 관광객   서귀포시    대륜동  농축수산품  여  40대   7609500        41   \n",
       "3 2014-09-01  내국인 관광객   서귀포시    남원읍  농축수산품  남  50대   7092500        40   \n",
       "4 2014-09-01  내국인 관광객   서귀포시    대륜동  농축수산품  남  40대   9098500        59   \n",
       "\n",
       "   건당이용금액    데이터기준일자  \n",
       "0  215433 2017-02-16  \n",
       "1  209986 2017-02-16  \n",
       "2  185598 2017-02-16  \n",
       "3  177313 2017-02-16  \n",
       "4  154212 2017-02-16  "
      ]
     },
     "execution_count": 3,
     "metadata": {},
     "output_type": "execute_result"
    }
   ],
   "source": [
    "# 고객속성현황 확인\n",
    "data_A = pd.read_csv('C:/Users/akljh/OneDrive/바탕 화면/input/domestic_consumption_data.csv',parse_dates=['기준년월','데이터기준일자'],encoding='ANSI')\n",
    "data_A.head()"
   ]
  },
  {
   "cell_type": "code",
   "execution_count": 5,
   "metadata": {},
   "outputs": [
    {
     "data": {
      "text/plain": [
       "0        농축수산품\n",
       "5      스포츠레져용품\n",
       "9        골프 용품\n",
       "10       악세 사리\n",
       "14          의원\n",
       "19          안경\n",
       "25      정장(여성)\n",
       "53       기념품 점\n",
       "93      기타음료식품\n",
       "128      슈퍼 마켓\n",
       "140      신   발\n",
       "207         약국\n",
       "221         스넥\n",
       "675      귀 금 속\n",
       "Name: 업종명, dtype: object"
      ]
     },
     "execution_count": 5,
     "metadata": {},
     "output_type": "execute_result"
    }
   ],
   "source": [
    "# 업종명 확인 및 중복제거\n",
    "data_A['업종명'].drop_duplicates()"
   ]
  },
  {
   "cell_type": "code",
   "execution_count": 60,
   "metadata": {},
   "outputs": [],
   "source": [
    "# 업종별 행분류\n",
    "A_Farm = data_A.query('업종명 == \"농축수산품\"')\n",
    "A_SL = data_A.query('업종명 == \"스포츠레져용품\"')\n",
    "A_Gol = data_A.query('업종명 == \"골프용품\"')\n",
    "A_Acc = data_A.query('업종명 == \"악세사리\"')\n",
    "A_Hos = data_A.query('업종명 == \"의원\"')\n",
    "A_Gla = data_A.query('업종명 == \"안경\"')\n",
    "A_Sui = data_A.query('업종명 == \"정장(여성)\"')\n",
    "A_Toy = data_A.query('업종명 == \"기념품 점\"')\n",
    "A_Bev = data_A.query('업종명 == \"기타음료식품\"')\n",
    "A_Sup = data_A.query('업종명 == \"슈퍼마켓\"')\n",
    "A_Sho = data_A.query('업종명 == \"신   발\"')\n",
    "A_Dru = data_A.query('업종명 == \"약국\"')\n",
    "A_Sna = data_A.query('업종명 == \"스넥\"')\n",
    "A_Jew = data_A.query('업종명 == \"귀금속\"')"
   ]
  },
  {
   "cell_type": "code",
   "execution_count": 36,
   "metadata": {},
   "outputs": [],
   "source": [
    "# 건당 이용금액 합계 집계 후 변수에 저장\n",
    "Farm = A_Farm['건당이용금액'].sum()\n",
    "SL = A_SL['건당이용금액'].sum()\n",
    "Gol = A_Gol['건당이용금액'].sum()\n",
    "Acc = A_Acc['건당이용금액'].sum()\n",
    "Hos = A_Hos['건당이용금액'].sum()\n",
    "Gla = A_Gla['건당이용금액'].sum()\n",
    "Sui = A_Sui['건당이용금액'].sum()\n",
    "Toy = A_Toy['건당이용금액'].sum()\n",
    "Bev = A_Bev['건당이용금액'].sum()\n",
    "Sup = A_Sup['건당이용금액'].sum()\n",
    "Sho = A_Sho['건당이용금액'].sum()\n",
    "Dru = A_Dru['건당이용금액'].sum()\n",
    "Sna = A_Sna['건당이용금액'].sum()\n",
    "Jew = A_Jew['건당이용금액'].sum()"
   ]
  },
  {
   "cell_type": "code",
   "execution_count": 93,
   "metadata": {},
   "outputs": [
    {
     "data": {
      "image/png": "[encoded data removed]",
      "text/plain": [
       "<Figure size 432x288 with 1 Axes>"
      ]
     },
     "metadata": {},
     "output_type": "display_data"
    }
   ],
   "source": [
    "# 제주시 전체 업종별 건당 이용금액 합계 비중\n",
    "ratio = [Farm, SL, Gol, Acc, Hos, Gla, Sui, Toy, Bev, Sup, Sho, Dru, Sna, Jew]\n",
    "labels = [\"Agricultural & Livestock & Fisheries products\", \"Sports leisure goods\", \"Golf equipment\", \"Accessories\", \"Hospital\", \"Glasses\", \"Suit(Women)\", \"Souvenir\", \"F & B\", \"SuperMarket\", \"Shoes\", \"Drug Store\", \"Snack\", \"Jewelry\"]\n",
    "\n",
    "plt.pie(ratio, labels=labels, autopct='%.1f%%')\n",
    "plt.title('Buying Ratio')\n",
    "plt.show()"
   ]
  },
  {
   "cell_type": "markdown",
   "metadata": {},
   "source": [
    "농축수산품 / 스포츠 레져용품 / 정장(여성)의 이용금액 합계가 눈에 띄게 높음을 확인."
   ]
  },
  {
   "cell_type": "code",
   "execution_count": 95,
   "metadata": {},
   "outputs": [],
   "source": [
    "A_Women = data_A.query('성별 == \"여\"')"
   ]
  },
  {
   "cell_type": "code",
   "execution_count": 96,
   "metadata": {},
   "outputs": [],
   "source": [
    "# 여성고객 업종별 행분류\n",
    "A_Women_Farm = A_Women.query('업종명 == \"농축수산품\"')\n",
    "A_Women_SL = A_Women.query('업종명 == \"스포츠레져용품\"')\n",
    "A_Women_Gol = A_Women.query('업종명 == \"골프용품\"')\n",
    "A_Women_Acc = A_Women.query('업종명 == \"악세사리\"')\n",
    "A_Women_Hos = A_Women.query('업종명 == \"의원\"')\n",
    "A_Women_Gla = A_Women.query('업종명 == \"안경\"')\n",
    "A_Women_Sui = A_Women.query('업종명 == \"정장(여성)\"')\n",
    "A_Women_Toy = A_Women.query('업종명 == \"기념품 점\"')\n",
    "A_Women_Bev = A_Women.query('업종명 == \"기타음료식품\"')\n",
    "A_Women_Sup = A_Women.query('업종명 == \"슈퍼마켓\"')\n",
    "A_Women_Sho = A_Women.query('업종명 == \"신   발\"')\n",
    "A_Women_Dru = A_Women.query('업종명 == \"약국\"')\n",
    "A_Women_Sna = A_Women.query('업종명 == \"스넥\"')\n",
    "A_Women_Jew = A_Women.query('업종명 == \"귀금속\"')"
   ]
  },
  {
   "cell_type": "code",
   "execution_count": 97,
   "metadata": {},
   "outputs": [],
   "source": [
    "# 건당 이용금액 합계 집계 후 변수에 저장\n",
    "Women_Farm = A_Women_Farm['건당이용금액'].sum()\n",
    "Women_SL = A_Women_SL['건당이용금액'].sum()\n",
    "Women_Gol = A_Women_Gol['건당이용금액'].sum()\n",
    "Women_Acc = A_Women_Acc['건당이용금액'].sum()\n",
    "Women_Hos = A_Women_Hos['건당이용금액'].sum()\n",
    "Women_Gla = A_Women_Gla['건당이용금액'].sum()\n",
    "Women_Sui = A_Women_Sui['건당이용금액'].sum()\n",
    "Women_Toy = A_Women_Toy['건당이용금액'].sum()\n",
    "Women_Bev = A_Women_Bev['건당이용금액'].sum()\n",
    "Women_Sup = A_Women_Sup['건당이용금액'].sum()\n",
    "Women_Sho = A_Women_Sho['건당이용금액'].sum()\n",
    "Women_Dru = A_Women_Dru['건당이용금액'].sum()\n",
    "Women_Sna = A_Women_Sna['건당이용금액'].sum()\n",
    "Women_Jew = A_Women_Jew['건당이용금액'].sum()"
   ]
  },
  {
   "cell_type": "code",
   "execution_count": 139,
   "metadata": {},
   "outputs": [
    {
     "data": {
      "image/png": "[encoded data removed]",
      "text/plain": [
       "<Figure size 432x288 with 1 Axes>"
      ]
     },
     "metadata": {},
     "output_type": "display_data"
    }
   ],
   "source": [
    "# 여성고객 업종별 건당 이용금액 합계 비중\n",
    "ratio = [Women_Farm, Women_SL, Women_Gol, Women_Acc, Women_Hos, Women_Gla, Women_Sui, Women_Toy, Women_Bev, Women_Sup, Women_Sho, Women_Dru, Women_Sna, Women_Jew]\n",
    "labels = [\"Agricultural & Livestock & Fisheries products\", \"Sports leisure goods\", \"Golf equipment\", \"Accessories\", \"Hospital\", \"Glasses\", \"Suit(Women)\", \"Souvenir\", \"F & B\", \"SuperMarket\", \"Shoes\", \"Drug Store\", \"Snack\", \"Jewelry\"]\n",
    "\n",
    "plt.pie(ratio, labels=labels, autopct='%.1f%%')\n",
    "plt.title('Women Buying Ratio')\n",
    "plt.show()"
   ]
  },
  {
   "cell_type": "markdown",
   "metadata": {},
   "source": [
    "전체 이용금액 비중과 크게 다르지 않으나, 스포츠, 레져 용품 이용금액이 상대적으로 낮음.\n",
    "의원, 정장(여성)의 이용금액이 상대적으로 높음"
   ]
  },
  {
   "cell_type": "code",
   "execution_count": 130,
   "metadata": {},
   "outputs": [],
   "source": [
    "A_Men = data_A.query('성별 == \"남\"')"
   ]
  },
  {
   "cell_type": "code",
   "execution_count": 131,
   "metadata": {},
   "outputs": [],
   "source": [
    "# 여성고객 업종별 행분류\n",
    "A_Men_Farm = A_Men.query('업종명 == \"농축수산품\"')\n",
    "A_Men_SL = A_Men.query('업종명 == \"스포츠레져용품\"')\n",
    "A_Men_Gol = A_Men.query('업종명 == \"골프용품\"')\n",
    "A_Men_Acc = A_Men.query('업종명 == \"악세사리\"')\n",
    "A_Men_Hos = A_Men.query('업종명 == \"의원\"')\n",
    "A_Men_Gla = A_Men.query('업종명 == \"안경\"')\n",
    "A_Men_Sui = A_Men.query('업종명 == \"정장(여성)\"')\n",
    "A_Men_Toy = A_Men.query('업종명 == \"기념품 점\"')\n",
    "A_Men_Bev = A_Men.query('업종명 == \"기타음료식품\"')\n",
    "A_Men_Sup = A_Men.query('업종명 == \"슈퍼마켓\"')\n",
    "A_Men_Sho = A_Men.query('업종명 == \"신   발\"')\n",
    "A_Men_Dru = A_Men.query('업종명 == \"약국\"')\n",
    "A_Men_Sna = A_Men.query('업종명 == \"스넥\"')\n",
    "A_Men_Jew = A_Men.query('업종명 == \"귀금속\"')"
   ]
  },
  {
   "cell_type": "code",
   "execution_count": 132,
   "metadata": {},
   "outputs": [],
   "source": [
    "# 건당 이용금액 합계 집계 후 변수에 저장\n",
    "Men_Farm = A_Men_Farm['건당이용금액'].sum()\n",
    "Men_SL = A_Men_SL['건당이용금액'].sum()\n",
    "Men_Gol = A_Men_Gol['건당이용금액'].sum()\n",
    "Men_Acc = A_Men_Acc['건당이용금액'].sum()\n",
    "Men_Hos = A_Men_Hos['건당이용금액'].sum()\n",
    "Men_Gla = A_Men_Gla['건당이용금액'].sum()\n",
    "Men_Sui = A_Men_Sui['건당이용금액'].sum()\n",
    "Men_Toy = A_Men_Toy['건당이용금액'].sum()\n",
    "Men_Bev = A_Men_Bev['건당이용금액'].sum()\n",
    "Men_Sup = A_Men_Sup['건당이용금액'].sum()\n",
    "Men_Sho = A_Men_Sho['건당이용금액'].sum()\n",
    "Men_Dru = A_Men_Dru['건당이용금액'].sum()\n",
    "Men_Sna = A_Men_Sna['건당이용금액'].sum()\n",
    "Men_Jew = A_Men_Jew['건당이용금액'].sum()"
   ]
  },
  {
   "cell_type": "code",
   "execution_count": 140,
   "metadata": {},
   "outputs": [
    {
     "data": {
      "image/png": "[encoded data removed]",
      "text/plain": [
       "<Figure size 432x288 with 1 Axes>"
      ]
     },
     "metadata": {},
     "output_type": "display_data"
    }
   ],
   "source": [
    "# 여성고객 업종별 건당 이용금액 합계 비중\n",
    "ratio = [Men_Farm, Men_SL, Men_Gol, Men_Acc, Men_Hos, Men_Gla, Men_Sui, Men_Toy, Men_Bev, Men_Sup, Men_Sho, Men_Dru, Men_Sna, Men_Jew]\n",
    "labels = [\"Agricultural & Livestock & Fisheries products\", \"Sports leisure goods\", \"Golf equipment\", \"Accessories\", \"Hospital\", \"Glasses\", \"Suit(Women)\", \"Souvenir\", \"F & B\", \"SuperMarket\", \"Shoes\", \"Drug Store\", \"Snack\", \"Jewelry\"]\n",
    "\n",
    "plt.pie(ratio, labels=labels, autopct='%.1f%%')\n",
    "plt.title('Men Buying Ratio')\n",
    "plt.show()"
   ]
  },
  {
   "cell_type": "markdown",
   "metadata": {},
   "source": [
    "마찬가지로 전체 이용금액 비중과 크게 다르지 않으나,\n",
    "스포츠, 레져용품 이용금액이 높고 의원, 정장(여성)의 비율은 낮은 것을 확인."
   ]
  },
  {
   "cell_type": "code",
   "execution_count": 100,
   "metadata": {},
   "outputs": [
    {
     "data": {
      "text/html": [
       "<div>\n",
       "<style scoped>\n",
       "    .dataframe tbody tr th:only-of-type {\n",
       "        vertical-align: middle;\n",
       "    }\n",
       "\n",
       "    .dataframe tbody tr th {\n",
       "        vertical-align: top;\n",
       "    }\n",
       "\n",
       "    .dataframe thead th {\n",
       "        text-align: right;\n",
       "    }\n",
       "</style>\n",
       "<table border=\"1\" class=\"dataframe\">\n",
       "  <thead>\n",
       "    <tr style=\"text-align: right;\">\n",
       "      <th></th>\n",
       "      <th>기준년도</th>\n",
       "      <th>시장 번호</th>\n",
       "      <th>시장명</th>\n",
       "      <th>카드이용자수</th>\n",
       "      <th>카드이용건수</th>\n",
       "      <th>카드이용금액</th>\n",
       "      <th>카드이용자수: 남</th>\n",
       "      <th>카드이용자수: 여</th>\n",
       "      <th>카드이용자수: 20대 이하</th>\n",
       "      <th>카드이용자수: 30대</th>\n",
       "      <th>...</th>\n",
       "      <th>카드이용자수: 50대 이상</th>\n",
       "      <th>카드이용자수: ~1km</th>\n",
       "      <th>카드이용자수: 1~3km</th>\n",
       "      <th>카드이용자수: 3~5km</th>\n",
       "      <th>카드이용자수: 5km~</th>\n",
       "      <th>카드이용금액: 주말</th>\n",
       "      <th>카드이용금액: 주중</th>\n",
       "      <th>카드이용금액: 8~18시</th>\n",
       "      <th>카드이용금액: 18시~8시</th>\n",
       "      <th>데이터기준일자</th>\n",
       "    </tr>\n",
       "  </thead>\n",
       "  <tbody>\n",
       "    <tr>\n",
       "      <th>0</th>\n",
       "      <td>2014</td>\n",
       "      <td>1</td>\n",
       "      <td>제주 동문시장</td>\n",
       "      <td>85686</td>\n",
       "      <td>174498</td>\n",
       "      <td>16901792933</td>\n",
       "      <td>37656</td>\n",
       "      <td>36777</td>\n",
       "      <td>8155</td>\n",
       "      <td>20183</td>\n",
       "      <td>...</td>\n",
       "      <td>29990</td>\n",
       "      <td>3490</td>\n",
       "      <td>10249</td>\n",
       "      <td>5162</td>\n",
       "      <td>56822</td>\n",
       "      <td>2927069527</td>\n",
       "      <td>13974723406</td>\n",
       "      <td>14679209222</td>\n",
       "      <td>2152264801</td>\n",
       "      <td>2017-02-16</td>\n",
       "    </tr>\n",
       "    <tr>\n",
       "      <th>1</th>\n",
       "      <td>2015</td>\n",
       "      <td>1</td>\n",
       "      <td>제주 동문시장</td>\n",
       "      <td>143526</td>\n",
       "      <td>284223</td>\n",
       "      <td>22896627341</td>\n",
       "      <td>63087</td>\n",
       "      <td>64524</td>\n",
       "      <td>21888</td>\n",
       "      <td>37691</td>\n",
       "      <td>...</td>\n",
       "      <td>41307</td>\n",
       "      <td>3945</td>\n",
       "      <td>11525</td>\n",
       "      <td>5838</td>\n",
       "      <td>107064</td>\n",
       "      <td>4496075255</td>\n",
       "      <td>18400552086</td>\n",
       "      <td>19460984705</td>\n",
       "      <td>3336297726</td>\n",
       "      <td>2017-02-16</td>\n",
       "    </tr>\n",
       "    <tr>\n",
       "      <th>2</th>\n",
       "      <td>2016</td>\n",
       "      <td>1</td>\n",
       "      <td>제주 동문시장</td>\n",
       "      <td>170819</td>\n",
       "      <td>322070</td>\n",
       "      <td>23243065598</td>\n",
       "      <td>74661</td>\n",
       "      <td>78267</td>\n",
       "      <td>31338</td>\n",
       "      <td>40848</td>\n",
       "      <td>...</td>\n",
       "      <td>48011</td>\n",
       "      <td>4905</td>\n",
       "      <td>13527</td>\n",
       "      <td>6804</td>\n",
       "      <td>127904</td>\n",
       "      <td>4848489965</td>\n",
       "      <td>18394575633</td>\n",
       "      <td>19519521143</td>\n",
       "      <td>3593884845</td>\n",
       "      <td>2017-02-16</td>\n",
       "    </tr>\n",
       "    <tr>\n",
       "      <th>3</th>\n",
       "      <td>2014</td>\n",
       "      <td>2</td>\n",
       "      <td>제주 서문시장</td>\n",
       "      <td>4331</td>\n",
       "      <td>7796</td>\n",
       "      <td>515384831</td>\n",
       "      <td>2285</td>\n",
       "      <td>1169</td>\n",
       "      <td>296</td>\n",
       "      <td>839</td>\n",
       "      <td>...</td>\n",
       "      <td>1465</td>\n",
       "      <td>551</td>\n",
       "      <td>876</td>\n",
       "      <td>604</td>\n",
       "      <td>1481</td>\n",
       "      <td>131074890</td>\n",
       "      <td>384309941</td>\n",
       "      <td>215174671</td>\n",
       "      <td>297303660</td>\n",
       "      <td>2017-02-16</td>\n",
       "    </tr>\n",
       "    <tr>\n",
       "      <th>4</th>\n",
       "      <td>2015</td>\n",
       "      <td>2</td>\n",
       "      <td>제주 서문시장</td>\n",
       "      <td>6206</td>\n",
       "      <td>11107</td>\n",
       "      <td>726668519</td>\n",
       "      <td>3392</td>\n",
       "      <td>1785</td>\n",
       "      <td>638</td>\n",
       "      <td>1258</td>\n",
       "      <td>...</td>\n",
       "      <td>1963</td>\n",
       "      <td>730</td>\n",
       "      <td>1176</td>\n",
       "      <td>823</td>\n",
       "      <td>2481</td>\n",
       "      <td>191122250</td>\n",
       "      <td>535546269</td>\n",
       "      <td>303827369</td>\n",
       "      <td>422015150</td>\n",
       "      <td>2017-02-16</td>\n",
       "    </tr>\n",
       "  </tbody>\n",
       "</table>\n",
       "<p>5 rows × 21 columns</p>\n",
       "</div>"
      ],
      "text/plain": [
       "   기준년도  시장 번호      시장명  카드이용자수  카드이용건수       카드이용금액  카드이용자수: 남  카드이용자수: 여  \\\n",
       "0  2014      1  제주 동문시장   85686  174498  16901792933      37656      36777   \n",
       "1  2015      1  제주 동문시장  143526  284223  22896627341      63087      64524   \n",
       "2  2016      1  제주 동문시장  170819  322070  23243065598      74661      78267   \n",
       "3  2014      2  제주 서문시장    4331    7796    515384831       2285       1169   \n",
       "4  2015      2  제주 서문시장    6206   11107    726668519       3392       1785   \n",
       "\n",
       "   카드이용자수: 20대 이하  카드이용자수: 30대  ...  카드이용자수: 50대 이상  카드이용자수: ~1km  \\\n",
       "0            8155        20183  ...           29990          3490   \n",
       "1           21888        37691  ...           41307          3945   \n",
       "2           31338        40848  ...           48011          4905   \n",
       "3             296          839  ...            1465           551   \n",
       "4             638         1258  ...            1963           730   \n",
       "\n",
       "   카드이용자수: 1~3km  카드이용자수: 3~5km  카드이용자수: 5km~  카드이용금액: 주말   카드이용금액: 주중  \\\n",
       "0          10249           5162         56822  2927069527  13974723406   \n",
       "1          11525           5838        107064  4496075255  18400552086   \n",
       "2          13527           6804        127904  4848489965  18394575633   \n",
       "3            876            604          1481   131074890    384309941   \n",
       "4           1176            823          2481   191122250    535546269   \n",
       "\n",
       "   카드이용금액: 8~18시  카드이용금액: 18시~8시     데이터기준일자  \n",
       "0    14679209222      2152264801  2017-02-16  \n",
       "1    19460984705      3336297726  2017-02-16  \n",
       "2    19519521143      3593884845  2017-02-16  \n",
       "3      215174671       297303660  2017-02-16  \n",
       "4      303827369       422015150  2017-02-16  \n",
       "\n",
       "[5 rows x 21 columns]"
      ]
     },
     "execution_count": 100,
     "metadata": {},
     "output_type": "execute_result"
    }
   ],
   "source": [
    "# 소비패턴 데이터 확인\n",
    "data_B = pd.read_csv('C:/Users/akljh/OneDrive/바탕 화면/input/consumption_pattern_data.csv',encoding='ANSI')\n",
    "data_B.head()"
   ]
  },
  {
   "cell_type": "code",
   "execution_count": 101,
   "metadata": {},
   "outputs": [
    {
     "data": {
      "text/html": [
       "<div>\n",
       "<style scoped>\n",
       "    .dataframe tbody tr th:only-of-type {\n",
       "        vertical-align: middle;\n",
       "    }\n",
       "\n",
       "    .dataframe tbody tr th {\n",
       "        vertical-align: top;\n",
       "    }\n",
       "\n",
       "    .dataframe thead th {\n",
       "        text-align: right;\n",
       "    }\n",
       "</style>\n",
       "<table border=\"1\" class=\"dataframe\">\n",
       "  <thead>\n",
       "    <tr style=\"text-align: right;\">\n",
       "      <th></th>\n",
       "      <th>기준년도</th>\n",
       "      <th>시장 번호</th>\n",
       "      <th>시장명</th>\n",
       "      <th>카드이용자수</th>\n",
       "      <th>카드이용건수</th>\n",
       "      <th>카드이용금액</th>\n",
       "      <th>카드이용자수: 남</th>\n",
       "      <th>카드이용자수: 여</th>\n",
       "      <th>카드이용자수: 20대 이하</th>\n",
       "      <th>카드이용자수: 30대</th>\n",
       "      <th>카드이용자수: 40대</th>\n",
       "      <th>카드이용자수: 50대 이상</th>\n",
       "      <th>데이터기준일자</th>\n",
       "    </tr>\n",
       "  </thead>\n",
       "  <tbody>\n",
       "    <tr>\n",
       "      <th>0</th>\n",
       "      <td>2014</td>\n",
       "      <td>1</td>\n",
       "      <td>제주 동문시장</td>\n",
       "      <td>85686</td>\n",
       "      <td>174498</td>\n",
       "      <td>16901792933</td>\n",
       "      <td>37656</td>\n",
       "      <td>36777</td>\n",
       "      <td>8155</td>\n",
       "      <td>20183</td>\n",
       "      <td>17358</td>\n",
       "      <td>29990</td>\n",
       "      <td>2017-02-16</td>\n",
       "    </tr>\n",
       "    <tr>\n",
       "      <th>1</th>\n",
       "      <td>2015</td>\n",
       "      <td>1</td>\n",
       "      <td>제주 동문시장</td>\n",
       "      <td>143526</td>\n",
       "      <td>284223</td>\n",
       "      <td>22896627341</td>\n",
       "      <td>63087</td>\n",
       "      <td>64524</td>\n",
       "      <td>21888</td>\n",
       "      <td>37691</td>\n",
       "      <td>27454</td>\n",
       "      <td>41307</td>\n",
       "      <td>2017-02-16</td>\n",
       "    </tr>\n",
       "    <tr>\n",
       "      <th>2</th>\n",
       "      <td>2016</td>\n",
       "      <td>1</td>\n",
       "      <td>제주 동문시장</td>\n",
       "      <td>170819</td>\n",
       "      <td>322070</td>\n",
       "      <td>23243065598</td>\n",
       "      <td>74661</td>\n",
       "      <td>78267</td>\n",
       "      <td>31338</td>\n",
       "      <td>40848</td>\n",
       "      <td>32931</td>\n",
       "      <td>48011</td>\n",
       "      <td>2017-02-16</td>\n",
       "    </tr>\n",
       "    <tr>\n",
       "      <th>3</th>\n",
       "      <td>2014</td>\n",
       "      <td>2</td>\n",
       "      <td>제주 서문시장</td>\n",
       "      <td>4331</td>\n",
       "      <td>7796</td>\n",
       "      <td>515384831</td>\n",
       "      <td>2285</td>\n",
       "      <td>1169</td>\n",
       "      <td>296</td>\n",
       "      <td>839</td>\n",
       "      <td>912</td>\n",
       "      <td>1465</td>\n",
       "      <td>2017-02-16</td>\n",
       "    </tr>\n",
       "    <tr>\n",
       "      <th>4</th>\n",
       "      <td>2015</td>\n",
       "      <td>2</td>\n",
       "      <td>제주 서문시장</td>\n",
       "      <td>6206</td>\n",
       "      <td>11107</td>\n",
       "      <td>726668519</td>\n",
       "      <td>3392</td>\n",
       "      <td>1785</td>\n",
       "      <td>638</td>\n",
       "      <td>1258</td>\n",
       "      <td>1350</td>\n",
       "      <td>1963</td>\n",
       "      <td>2017-02-16</td>\n",
       "    </tr>\n",
       "    <tr>\n",
       "      <th>5</th>\n",
       "      <td>2016</td>\n",
       "      <td>2</td>\n",
       "      <td>제주 서문시장</td>\n",
       "      <td>6851</td>\n",
       "      <td>11001</td>\n",
       "      <td>721327107</td>\n",
       "      <td>3677</td>\n",
       "      <td>1983</td>\n",
       "      <td>864</td>\n",
       "      <td>1394</td>\n",
       "      <td>1485</td>\n",
       "      <td>1935</td>\n",
       "      <td>2017-02-16</td>\n",
       "    </tr>\n",
       "    <tr>\n",
       "      <th>6</th>\n",
       "      <td>2014</td>\n",
       "      <td>3</td>\n",
       "      <td>제주 보성시장</td>\n",
       "      <td>5529</td>\n",
       "      <td>9848</td>\n",
       "      <td>386447731</td>\n",
       "      <td>2986</td>\n",
       "      <td>1816</td>\n",
       "      <td>504</td>\n",
       "      <td>1295</td>\n",
       "      <td>1361</td>\n",
       "      <td>1730</td>\n",
       "      <td>2017-02-16</td>\n",
       "    </tr>\n",
       "    <tr>\n",
       "      <th>7</th>\n",
       "      <td>2015</td>\n",
       "      <td>3</td>\n",
       "      <td>제주 보성시장</td>\n",
       "      <td>6713</td>\n",
       "      <td>13112</td>\n",
       "      <td>542409651</td>\n",
       "      <td>3615</td>\n",
       "      <td>2252</td>\n",
       "      <td>639</td>\n",
       "      <td>1443</td>\n",
       "      <td>1690</td>\n",
       "      <td>2141</td>\n",
       "      <td>2017-02-16</td>\n",
       "    </tr>\n",
       "    <tr>\n",
       "      <th>8</th>\n",
       "      <td>2016</td>\n",
       "      <td>3</td>\n",
       "      <td>제주 보성시장</td>\n",
       "      <td>8193</td>\n",
       "      <td>14309</td>\n",
       "      <td>526394492</td>\n",
       "      <td>4436</td>\n",
       "      <td>2700</td>\n",
       "      <td>773</td>\n",
       "      <td>1658</td>\n",
       "      <td>2069</td>\n",
       "      <td>2651</td>\n",
       "      <td>2017-02-16</td>\n",
       "    </tr>\n",
       "    <tr>\n",
       "      <th>9</th>\n",
       "      <td>2014</td>\n",
       "      <td>4</td>\n",
       "      <td>서귀포 매일올레시장</td>\n",
       "      <td>47225</td>\n",
       "      <td>99105</td>\n",
       "      <td>7449225162</td>\n",
       "      <td>20368</td>\n",
       "      <td>20368</td>\n",
       "      <td>5287</td>\n",
       "      <td>13256</td>\n",
       "      <td>9586</td>\n",
       "      <td>13223</td>\n",
       "      <td>2017-02-16</td>\n",
       "    </tr>\n",
       "    <tr>\n",
       "      <th>10</th>\n",
       "      <td>2015</td>\n",
       "      <td>4</td>\n",
       "      <td>서귀포 매일올레시장</td>\n",
       "      <td>93045</td>\n",
       "      <td>192320</td>\n",
       "      <td>10891702632</td>\n",
       "      <td>40666</td>\n",
       "      <td>42703</td>\n",
       "      <td>16864</td>\n",
       "      <td>28768</td>\n",
       "      <td>17729</td>\n",
       "      <td>20435</td>\n",
       "      <td>2017-02-16</td>\n",
       "    </tr>\n",
       "    <tr>\n",
       "      <th>11</th>\n",
       "      <td>2016</td>\n",
       "      <td>4</td>\n",
       "      <td>서귀포 매일올레시장</td>\n",
       "      <td>129141</td>\n",
       "      <td>253271</td>\n",
       "      <td>12558053430</td>\n",
       "      <td>56835</td>\n",
       "      <td>59025</td>\n",
       "      <td>29087</td>\n",
       "      <td>36525</td>\n",
       "      <td>23937</td>\n",
       "      <td>26415</td>\n",
       "      <td>2017-02-16</td>\n",
       "    </tr>\n",
       "    <tr>\n",
       "      <th>12</th>\n",
       "      <td>2014</td>\n",
       "      <td>5</td>\n",
       "      <td>모슬포 중앙시장</td>\n",
       "      <td>1060</td>\n",
       "      <td>2230</td>\n",
       "      <td>218361793</td>\n",
       "      <td>420</td>\n",
       "      <td>445</td>\n",
       "      <td>79</td>\n",
       "      <td>146</td>\n",
       "      <td>267</td>\n",
       "      <td>390</td>\n",
       "      <td>2017-02-16</td>\n",
       "    </tr>\n",
       "    <tr>\n",
       "      <th>13</th>\n",
       "      <td>2015</td>\n",
       "      <td>5</td>\n",
       "      <td>모슬포 중앙시장</td>\n",
       "      <td>1879</td>\n",
       "      <td>4429</td>\n",
       "      <td>342261160</td>\n",
       "      <td>853</td>\n",
       "      <td>713</td>\n",
       "      <td>152</td>\n",
       "      <td>305</td>\n",
       "      <td>512</td>\n",
       "      <td>611</td>\n",
       "      <td>2017-02-16</td>\n",
       "    </tr>\n",
       "    <tr>\n",
       "      <th>14</th>\n",
       "      <td>2016</td>\n",
       "      <td>5</td>\n",
       "      <td>모슬포 중앙시장</td>\n",
       "      <td>2433</td>\n",
       "      <td>5454</td>\n",
       "      <td>396672609</td>\n",
       "      <td>1151</td>\n",
       "      <td>866</td>\n",
       "      <td>198</td>\n",
       "      <td>407</td>\n",
       "      <td>587</td>\n",
       "      <td>851</td>\n",
       "      <td>2017-02-16</td>\n",
       "    </tr>\n",
       "    <tr>\n",
       "      <th>15</th>\n",
       "      <td>2014</td>\n",
       "      <td>6</td>\n",
       "      <td>서귀포 향토5일시장</td>\n",
       "      <td>2059</td>\n",
       "      <td>5335</td>\n",
       "      <td>529554960</td>\n",
       "      <td>925</td>\n",
       "      <td>813</td>\n",
       "      <td>43</td>\n",
       "      <td>211</td>\n",
       "      <td>515</td>\n",
       "      <td>1008</td>\n",
       "      <td>2017-02-16</td>\n",
       "    </tr>\n",
       "    <tr>\n",
       "      <th>16</th>\n",
       "      <td>2015</td>\n",
       "      <td>6</td>\n",
       "      <td>서귀포 향토5일시장</td>\n",
       "      <td>2498</td>\n",
       "      <td>6695</td>\n",
       "      <td>630593382</td>\n",
       "      <td>1115</td>\n",
       "      <td>1048</td>\n",
       "      <td>62</td>\n",
       "      <td>269</td>\n",
       "      <td>627</td>\n",
       "      <td>1215</td>\n",
       "      <td>2017-02-16</td>\n",
       "    </tr>\n",
       "    <tr>\n",
       "      <th>17</th>\n",
       "      <td>2016</td>\n",
       "      <td>6</td>\n",
       "      <td>서귀포 향토5일시장</td>\n",
       "      <td>4337</td>\n",
       "      <td>10739</td>\n",
       "      <td>857960895</td>\n",
       "      <td>1925</td>\n",
       "      <td>1751</td>\n",
       "      <td>156</td>\n",
       "      <td>791</td>\n",
       "      <td>1098</td>\n",
       "      <td>1640</td>\n",
       "      <td>2017-02-16</td>\n",
       "    </tr>\n",
       "    <tr>\n",
       "      <th>18</th>\n",
       "      <td>2014</td>\n",
       "      <td>7</td>\n",
       "      <td>제주 민속5일시장</td>\n",
       "      <td>805</td>\n",
       "      <td>1155</td>\n",
       "      <td>177846860</td>\n",
       "      <td>356</td>\n",
       "      <td>293</td>\n",
       "      <td>51</td>\n",
       "      <td>141</td>\n",
       "      <td>176</td>\n",
       "      <td>295</td>\n",
       "      <td>2017-02-16</td>\n",
       "    </tr>\n",
       "    <tr>\n",
       "      <th>19</th>\n",
       "      <td>2015</td>\n",
       "      <td>7</td>\n",
       "      <td>제주 민속5일시장</td>\n",
       "      <td>1299</td>\n",
       "      <td>1805</td>\n",
       "      <td>250818050</td>\n",
       "      <td>548</td>\n",
       "      <td>522</td>\n",
       "      <td>96</td>\n",
       "      <td>234</td>\n",
       "      <td>275</td>\n",
       "      <td>474</td>\n",
       "      <td>2017-02-16</td>\n",
       "    </tr>\n",
       "    <tr>\n",
       "      <th>20</th>\n",
       "      <td>2016</td>\n",
       "      <td>7</td>\n",
       "      <td>제주 민속5일시장</td>\n",
       "      <td>1937</td>\n",
       "      <td>2568</td>\n",
       "      <td>276304698</td>\n",
       "      <td>822</td>\n",
       "      <td>779</td>\n",
       "      <td>170</td>\n",
       "      <td>401</td>\n",
       "      <td>396</td>\n",
       "      <td>639</td>\n",
       "      <td>2017-02-16</td>\n",
       "    </tr>\n",
       "    <tr>\n",
       "      <th>21</th>\n",
       "      <td>2014</td>\n",
       "      <td>8</td>\n",
       "      <td>중문 향토5일시장</td>\n",
       "      <td>70</td>\n",
       "      <td>110</td>\n",
       "      <td>5925000</td>\n",
       "      <td>38</td>\n",
       "      <td>13</td>\n",
       "      <td>0</td>\n",
       "      <td>4</td>\n",
       "      <td>26</td>\n",
       "      <td>21</td>\n",
       "      <td>2017-02-16</td>\n",
       "    </tr>\n",
       "    <tr>\n",
       "      <th>22</th>\n",
       "      <td>2015</td>\n",
       "      <td>8</td>\n",
       "      <td>중문 향토5일시장</td>\n",
       "      <td>122</td>\n",
       "      <td>159</td>\n",
       "      <td>8054000</td>\n",
       "      <td>65</td>\n",
       "      <td>26</td>\n",
       "      <td>3</td>\n",
       "      <td>9</td>\n",
       "      <td>33</td>\n",
       "      <td>46</td>\n",
       "      <td>2017-02-16</td>\n",
       "    </tr>\n",
       "    <tr>\n",
       "      <th>23</th>\n",
       "      <td>2016</td>\n",
       "      <td>8</td>\n",
       "      <td>중문 향토5일시장</td>\n",
       "      <td>321</td>\n",
       "      <td>543</td>\n",
       "      <td>24873750</td>\n",
       "      <td>191</td>\n",
       "      <td>62</td>\n",
       "      <td>15</td>\n",
       "      <td>41</td>\n",
       "      <td>86</td>\n",
       "      <td>114</td>\n",
       "      <td>2017-02-16</td>\n",
       "    </tr>\n",
       "  </tbody>\n",
       "</table>\n",
       "</div>"
      ],
      "text/plain": [
       "    기준년도  시장 번호         시장명  카드이용자수  카드이용건수       카드이용금액  카드이용자수: 남  \\\n",
       "0   2014      1     제주 동문시장   85686  174498  16901792933      37656   \n",
       "1   2015      1     제주 동문시장  143526  284223  22896627341      63087   \n",
       "2   2016      1     제주 동문시장  170819  322070  23243065598      74661   \n",
       "3   2014      2     제주 서문시장    4331    7796    515384831       2285   \n",
       "4   2015      2     제주 서문시장    6206   11107    726668519       3392   \n",
       "5   2016      2     제주 서문시장    6851   11001    721327107       3677   \n",
       "6   2014      3     제주 보성시장    5529    9848    386447731       2986   \n",
       "7   2015      3     제주 보성시장    6713   13112    542409651       3615   \n",
       "8   2016      3     제주 보성시장    8193   14309    526394492       4436   \n",
       "9   2014      4  서귀포 매일올레시장   47225   99105   7449225162      20368   \n",
       "10  2015      4  서귀포 매일올레시장   93045  192320  10891702632      40666   \n",
       "11  2016      4  서귀포 매일올레시장  129141  253271  12558053430      56835   \n",
       "12  2014      5    모슬포 중앙시장    1060    2230    218361793        420   \n",
       "13  2015      5    모슬포 중앙시장    1879    4429    342261160        853   \n",
       "14  2016      5    모슬포 중앙시장    2433    5454    396672609       1151   \n",
       "15  2014      6  서귀포 향토5일시장    2059    5335    529554960        925   \n",
       "16  2015      6  서귀포 향토5일시장    2498    6695    630593382       1115   \n",
       "17  2016      6  서귀포 향토5일시장    4337   10739    857960895       1925   \n",
       "18  2014      7   제주 민속5일시장     805    1155    177846860        356   \n",
       "19  2015      7   제주 민속5일시장    1299    1805    250818050        548   \n",
       "20  2016      7   제주 민속5일시장    1937    2568    276304698        822   \n",
       "21  2014      8   중문 향토5일시장      70     110      5925000         38   \n",
       "22  2015      8   중문 향토5일시장     122     159      8054000         65   \n",
       "23  2016      8   중문 향토5일시장     321     543     24873750        191   \n",
       "\n",
       "    카드이용자수: 여  카드이용자수: 20대 이하  카드이용자수: 30대  카드이용자수: 40대  카드이용자수: 50대 이상  \\\n",
       "0       36777            8155        20183        17358           29990   \n",
       "1       64524           21888        37691        27454           41307   \n",
       "2       78267           31338        40848        32931           48011   \n",
       "3        1169             296          839          912            1465   \n",
       "4        1785             638         1258         1350            1963   \n",
       "5        1983             864         1394         1485            1935   \n",
       "6        1816             504         1295         1361            1730   \n",
       "7        2252             639         1443         1690            2141   \n",
       "8        2700             773         1658         2069            2651   \n",
       "9       20368            5287        13256         9586           13223   \n",
       "10      42703           16864        28768        17729           20435   \n",
       "11      59025           29087        36525        23937           26415   \n",
       "12        445              79          146          267             390   \n",
       "13        713             152          305          512             611   \n",
       "14        866             198          407          587             851   \n",
       "15        813              43          211          515            1008   \n",
       "16       1048              62          269          627            1215   \n",
       "17       1751             156          791         1098            1640   \n",
       "18        293              51          141          176             295   \n",
       "19        522              96          234          275             474   \n",
       "20        779             170          401          396             639   \n",
       "21         13               0            4           26              21   \n",
       "22         26               3            9           33              46   \n",
       "23         62              15           41           86             114   \n",
       "\n",
       "       데이터기준일자  \n",
       "0   2017-02-16  \n",
       "1   2017-02-16  \n",
       "2   2017-02-16  \n",
       "3   2017-02-16  \n",
       "4   2017-02-16  \n",
       "5   2017-02-16  \n",
       "6   2017-02-16  \n",
       "7   2017-02-16  \n",
       "8   2017-02-16  \n",
       "9   2017-02-16  \n",
       "10  2017-02-16  \n",
       "11  2017-02-16  \n",
       "12  2017-02-16  \n",
       "13  2017-02-16  \n",
       "14  2017-02-16  \n",
       "15  2017-02-16  \n",
       "16  2017-02-16  \n",
       "17  2017-02-16  \n",
       "18  2017-02-16  \n",
       "19  2017-02-16  \n",
       "20  2017-02-16  \n",
       "21  2017-02-16  \n",
       "22  2017-02-16  \n",
       "23  2017-02-16  "
      ]
     },
     "execution_count": 101,
     "metadata": {},
     "output_type": "execute_result"
    }
   ],
   "source": [
    "# 소비패턴 데이터 - 불필요한 열 제거\n",
    "data_B.drop(['카드이용자수: ~1km', '카드이용자수: 1~3km', '카드이용자수: 3~5km', '카드이용자수: 5km~', '카드이용금액: 주말', '카드이용금액: 주중', '카드이용금액: 8~18시', '카드이용금액: 18시~8시'], axis=1)"
   ]
  },
  {
   "cell_type": "markdown",
   "metadata": {},
   "source": [
    "시장별 성장세 시각화"
   ]
  },
  {
   "cell_type": "code",
   "execution_count": 117,
   "metadata": {},
   "outputs": [
    {
     "data": {
      "text/plain": [
       "Text(0.5, 1.0, 'Jeju Dongmun Market Payment amount trend')"
      ]
     },
     "execution_count": 117,
     "metadata": {},
     "output_type": "execute_result"
    },
    {
     "data": {
      "image/png": "[encoded data removed]",
      "text/plain": [
       "<Figure size 432x288 with 1 Axes>"
      ]
     },
     "metadata": {
      "needs_background": "light"
     },
     "output_type": "display_data"
    }
   ],
   "source": [
    "B_Dongmun = data_B.query('시장명 == \"제주 동문시장\"')\n",
    "plt.plot(B_Dongmun['기준년도'], B_Dongmun['카드이용금액'])\n",
    "plt.title('Jeju Dongmun Market Payment amount trend')"
   ]
  },
  {
   "cell_type": "code",
   "execution_count": 118,
   "metadata": {},
   "outputs": [
    {
     "data": {
      "text/plain": [
       "Text(0.5, 1.0, 'Seomun Market Payment amount trend')"
      ]
     },
     "execution_count": 118,
     "metadata": {},
     "output_type": "execute_result"
    },
    {
     "data": {
      "image/png": "[encoded data removed]",
      "text/plain": [
       "<Figure size 432x288 with 1 Axes>"
      ]
     },
     "metadata": {
      "needs_background": "light"
     },
     "output_type": "display_data"
    }
   ],
   "source": [
    "B_Seomun = data_B.query('시장명 == \"제주 서문시장\"')\n",
    "plt.plot(B_Seomun['기준년도'], B_Seomun['카드이용금액'])\n",
    "plt.title('Seomun Market Payment amount trend')"
   ]
  },
  {
   "cell_type": "code",
   "execution_count": 119,
   "metadata": {},
   "outputs": [
    {
     "data": {
      "text/plain": [
       "Text(0.5, 1.0, 'Jeju Bosung Market Payment amount trend')"
      ]
     },
     "execution_count": 119,
     "metadata": {},
     "output_type": "execute_result"
    },
    {
     "data": {
      "image/png": "[encoded data removed]",
      "text/plain": [
       "<Figure size 432x288 with 1 Axes>"
      ]
     },
     "metadata": {
      "needs_background": "light"
     },
     "output_type": "display_data"
    }
   ],
   "source": [
    "B_Bosung = data_B.query('시장명 == \"제주 보성시장\"')\n",
    "plt.plot(B_Bosung['기준년도'], B_Bosung['카드이용금액'])\n",
    "plt.title('Jeju Bosung Market Payment amount trend')"
   ]
  },
  {
   "cell_type": "code",
   "execution_count": 120,
   "metadata": {},
   "outputs": [
    {
     "data": {
      "text/plain": [
       "Text(0.5, 1.0, 'Seogwipo Olleh Market Payment amount trend')"
      ]
     },
     "execution_count": 120,
     "metadata": {},
     "output_type": "execute_result"
    },
    {
     "data": {
      "image/png": "[encoded data removed]",
      "text/plain": [
       "<Figure size 432x288 with 1 Axes>"
      ]
     },
     "metadata": {
      "needs_background": "light"
     },
     "output_type": "display_data"
    }
   ],
   "source": [
    "B_Olleh = data_B.query('시장명 == \"서귀포 매일올레시장\"')\n",
    "plt.plot(B_Olleh['기준년도'], B_Olleh['카드이용금액'])\n",
    "plt.title('Seogwipo Olleh Market Payment amount trend')"
   ]
  },
  {
   "cell_type": "code",
   "execution_count": 121,
   "metadata": {},
   "outputs": [
    {
     "data": {
      "text/plain": [
       "Text(0.5, 1.0, 'Moseulpo Market Payment amount trend')"
      ]
     },
     "execution_count": 121,
     "metadata": {},
     "output_type": "execute_result"
    },
    {
     "data": {
      "image/png": "[encoded data removed]",
      "text/plain": [
       "<Figure size 432x288 with 1 Axes>"
      ]
     },
     "metadata": {
      "needs_background": "light"
     },
     "output_type": "display_data"
    }
   ],
   "source": [
    "B_Moseulpo = data_B.query('시장명 == \"모슬포 중앙시장\"')\n",
    "plt.plot(B_Moseulpo['기준년도'], B_Moseulpo['카드이용금액'])\n",
    "plt.title('Moseulpo Market Payment amount trend')"
   ]
  },
  {
   "cell_type": "code",
   "execution_count": 122,
   "metadata": {},
   "outputs": [
    {
     "data": {
      "text/plain": [
       "Text(0.5, 1.0, 'Seogwipo Hyangto Market Payment amount trend')"
      ]
     },
     "execution_count": 122,
     "metadata": {},
     "output_type": "execute_result"
    },
    {
     "data": {
      "image/png": "[encoded data removed]",
      "text/plain": [
       "<Figure size 432x288 with 1 Axes>"
      ]
     },
     "metadata": {
      "needs_background": "light"
     },
     "output_type": "display_data"
    }
   ],
   "source": [
    "B_Hyangto = data_B.query('시장명 == \"서귀포 향토5일시장\"')\n",
    "plt.plot(B_Hyangto['기준년도'], B_Hyangto['카드이용금액'])\n",
    "plt.title('Seogwipo Hyangto Market Payment amount trend')"
   ]
  },
  {
   "cell_type": "code",
   "execution_count": 123,
   "metadata": {},
   "outputs": [
    {
     "data": {
      "text/plain": [
       "Text(0.5, 1.0, 'Jeju Minsok Market Payment amount trend')"
      ]
     },
     "execution_count": 123,
     "metadata": {},
     "output_type": "execute_result"
    },
    {
     "data": {
      "image/png": "[encoded data removed]",
      "text/plain": [
       "<Figure size 432x288 with 1 Axes>"
      ]
     },
     "metadata": {
      "needs_background": "light"
     },
     "output_type": "display_data"
    }
   ],
   "source": [
    "B_Minsok = data_B.query('시장명 == \"제주 민속5일시장\"')\n",
    "plt.plot(B_Minsok['기준년도'], B_Minsok['카드이용금액'])\n",
    "plt.title('Jeju Minsok Market Payment amount trend')"
   ]
  },
  {
   "cell_type": "code",
   "execution_count": 124,
   "metadata": {},
   "outputs": [
    {
     "data": {
      "text/plain": [
       "Text(0.5, 1.0, 'Jungmun Hyangto Market Payment amount trend')"
      ]
     },
     "execution_count": 124,
     "metadata": {},
     "output_type": "execute_result"
    },
    {
     "data": {
      "image/png": "[encoded data removed]",
      "text/plain": [
       "<Figure size 432x288 with 1 Axes>"
      ]
     },
     "metadata": {
      "needs_background": "light"
     },
     "output_type": "display_data"
    }
   ],
   "source": [
    "B_JMHyangto = data_B.query('시장명 == \"중문 향토5일시장\"')\n",
    "plt.plot(B_JMHyangto['기준년도'], B_JMHyangto['카드이용금액'])\n",
    "plt.title('Jungmun Hyangto Market Payment amount trend')"
   ]
  },
  {
   "cell_type": "markdown",
   "metadata": {},
   "source": [
    "모두 성장세에 있지만, 중문 향토5일시장의 성장률이 타 지역에 비해 매우 높음(2014 > 2016 5배 성장)을 확인."
   ]
  },
  {
   "cell_type": "code",
   "execution_count": null,
   "metadata": {},
   "outputs": [],
   "source": []
  }
 ],
 "metadata": {
  "kernelspec": {
   "display_name": "Python 3",
   "language": "python",
   "name": "python3"
  },
  "language_info": {
   "codemirror_mode": {
    "name": "ipython",
    "version": 3
   },
   "file_extension": ".py",
   "mimetype": "text/x-python",
   "name": "python",
   "nbconvert_exporter": "python",
   "pygments_lexer": "ipython3",
   "version": "3.8.5"
  }
 },
 "nbformat": 4,
 "nbformat_minor": 4
}
